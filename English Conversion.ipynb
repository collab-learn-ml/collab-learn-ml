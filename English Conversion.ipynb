{
 "cells": [
  {
   "cell_type": "code",
   "execution_count": 1,
   "id": "hired-protein",
   "metadata": {},
   "outputs": [],
   "source": [
    "import pandas as pd\n",
    "import numpy as np\n",
    "from numpy import nan\n",
    "from google_trans_new import google_translator   "
   ]
  },
  {
   "cell_type": "code",
   "execution_count": 19,
   "id": "modular-democrat",
   "metadata": {},
   "outputs": [],
   "source": [
    "data_reviews = pd.read_csv(\"./Dataset/olist_order_reviews.csv\")"
   ]
  },
  {
   "cell_type": "code",
   "execution_count": 20,
   "id": "communist-fraud",
   "metadata": {},
   "outputs": [],
   "source": [
    "translator = google_translator() "
   ]
  },
  {
   "cell_type": "code",
   "execution_count": 21,
   "id": "italian-polls",
   "metadata": {},
   "outputs": [],
   "source": [
    "lst = []\n",
    "for index,row in data_reviews.iterrows():\n",
    "    if pd.isnull(row['review_comment_message']):\n",
    "        lst.append('emp')\n",
    "    else:\n",
    "        translate_text = translator.translate(row['review_comment_message'].replace('\\r','\\\\r'), lang_src='pt', lang_tgt='en')\n",
    "        lst.append(translate_text)"
   ]
  },
  {
   "cell_type": "code",
   "execution_count": 23,
   "id": "cultural-armor",
   "metadata": {},
   "outputs": [],
   "source": [
    "se = pd.Series(lst)\n",
    "data_reviews.loc[:,'english comment'] = se.values"
   ]
  },
  {
   "cell_type": "code",
   "execution_count": null,
   "id": "facial-victoria",
   "metadata": {},
   "outputs": [],
   "source": [
    "data_reviews.to_csv('converted.csv')"
   ]
  }
 ],
 "metadata": {
  "kernelspec": {
   "display_name": "Python 3",
   "language": "python",
   "name": "python3"
  },
  "language_info": {
   "codemirror_mode": {
    "name": "ipython",
    "version": 3
   },
   "file_extension": ".py",
   "mimetype": "text/x-python",
   "name": "python",
   "nbconvert_exporter": "python",
   "pygments_lexer": "ipython3",
   "version": "3.9.2"
  }
 },
 "nbformat": 4,
 "nbformat_minor": 5
}
