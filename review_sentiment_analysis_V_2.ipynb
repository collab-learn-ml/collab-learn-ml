{
 "cells": [
  {
   "cell_type": "code",
   "execution_count": 11,
   "metadata": {},
   "outputs": [],
   "source": [
    "import pandas as pd\n",
    "import numpy as np\n",
    "from numpy import nan\n",
    "from google_trans_new import google_translator   \n",
    "import nltk\n",
    "from nltk.sentiment import SentimentIntensityAnalyzer\n",
    "import time\n"
   ]
  },
  {
   "cell_type": "code",
   "execution_count": 12,
   "metadata": {},
   "outputs": [],
   "source": [
    "scores = []\n",
    "rating_review = {}\n",
    "sid = SentimentIntensityAnalyzer()\n",
    "filename = 'olist_order_reviews_dataset_batch4.csv'\n",
    "df = pd.read_csv(filename,encoding= 'unicode_escape')#('olist_order_reviews_dataset.csv')\n",
    "reviews = df['review_comment_message']\n",
    "translator = google_translator(timeout=60) "
   ]
  },
  {
   "cell_type": "code",
   "execution_count": 20,
   "metadata": {},
   "outputs": [
    {
     "name": "stdout",
     "output_type": "stream",
     "text": [
      "Expecting ',' delimiter: line 1 column 40 (char 39)\n",
      "review in English  1632\n",
      "Negative in English  1632\n",
      "Neutral in English  1632\n",
      "Positive in English  1632\n",
      "Compound in English  1632\n",
      "Success\n"
     ]
    }
   ],
   "source": [
    "#{'neg': 0.0, 'neu': 0.704, 'pos': 0.296, 'compound': 0.2732}\n",
    "\n",
    "\n",
    " \n",
    "\n",
    "english_review_list = []\n",
    "neg_review = []\n",
    "neu_review = []\n",
    "pos_review = []\n",
    "compound_review = []\n",
    "\n",
    "for val in df:\n",
    "    if df['review_comment_message'] is nan:\n",
    "        pass\n",
    "    \n",
    "count = 0 \n",
    "col_value = 14363\n",
    "for re in reviews:\n",
    "    if count < col_value:\n",
    "        count += 1\n",
    "        continue\n",
    "    if count == 16001:\n",
    "        break\n",
    "    try:\n",
    "        count += 1\n",
    "        if re is nan :\n",
    "            english_review_list.append(\"\")\n",
    "            neg_review.append(\"\")\n",
    "            neu_review.append(\"\")\n",
    "            pos_review.append(\"\")\n",
    "            compound_review.append(\"\")\n",
    "            continue\n",
    "        translate_text = translator.translate(re, lang_src='pt', lang_tgt='en')\n",
    "        english_review_list.append(translate_text)\n",
    "        ss = sid.polarity_scores(translate_text)\n",
    "        neg_review.append(ss['neg'])\n",
    "        neu_review.append(ss['neu'])\n",
    "        pos_review.append(ss['pos'])\n",
    "        compound_review.append(ss['compound'])\n",
    "        print(str(count),end=\"\\r\")\n",
    "        time.sleep(10)\n",
    "    except Exception as e:\n",
    "        print(e)\n",
    "        break \n",
    "\n",
    "#print(count)\n",
    "print('review in English ',len(english_review_list))\n",
    "print('Negative in English ',len(neg_review)) # number to put\n",
    "print('Neutral in English ',len(neu_review))\n",
    "print('Positive in English ',len(pos_review))\n",
    "print('Compound in English ',len(compound_review))\n",
    "\n",
    "dict = {'review in English': english_review_list, 'Negative comment value': neg_review, 'neutral comment value': neu_review, 'Positive comment value':pos_review,'Compoud comment value':compound_review}\n",
    "df2 = pd.DataFrame(dict)\n",
    "df2.to_csv(\"reviews_dataset_modified_batch4_10.csv\", index=False)\n",
    "print('Success')\n",
    " "
   ]
  },
  {
   "cell_type": "code",
   "execution_count": 6,
   "metadata": {},
   "outputs": [
    {
     "name": "stdout",
     "output_type": "stream",
     "text": [
      "Product sent and at the age of quality. The store fulfilled it and answered the expected \n",
      "{'neg': 0.0, 'neu': 0.843, 'pos': 0.157, 'compound': 0.4215}\n"
     ]
    }
   ],
   "source": [
    "re = 'Produto enviado e de ï¿½ï¿½tima qualidade. A loja cumpriu o e atendeu as expectati'\n",
    "translate_text = translator.translate(re, lang_src='pt', lang_tgt='en')\n",
    "#translate_text = 'Very cool keychain, lots of details. Very strong. I loved it'\n",
    "ss = sid.polarity_scores(translate_text)\n",
    "print(translate_text)\n",
    "print(ss)"
   ]
  },
  {
   "cell_type": "code",
   "execution_count": 21,
   "metadata": {},
   "outputs": [
    {
     "data": {
      "text/plain": [
       "15996"
      ]
     },
     "execution_count": 21,
     "metadata": {},
     "output_type": "execute_result"
    }
   ],
   "source": [
    "count"
   ]
  },
  {
   "cell_type": "code",
   "execution_count": null,
   "metadata": {},
   "outputs": [],
   "source": []
  }
 ],
 "metadata": {
  "kernelspec": {
   "display_name": "Python 3",
   "language": "python",
   "name": "python3"
  },
  "language_info": {
   "codemirror_mode": {
    "name": "ipython",
    "version": 3
   },
   "file_extension": ".py",
   "mimetype": "text/x-python",
   "name": "python",
   "nbconvert_exporter": "python",
   "pygments_lexer": "ipython3",
   "version": "3.8.3"
  }
 },
 "nbformat": 4,
 "nbformat_minor": 4
}
